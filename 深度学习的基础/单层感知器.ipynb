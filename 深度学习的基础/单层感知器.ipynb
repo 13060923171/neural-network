{
 "cells": [
  {
   "cell_type": "code",
   "execution_count": 1,
   "metadata": {},
   "outputs": [],
   "source": [
    "import numpy as np\n",
    "import matplotlib.pyplot as plt"
   ]
  },
  {
   "cell_type": "code",
   "execution_count": 22,
   "metadata": {},
   "outputs": [],
   "source": [
    "#定义输入数据\n",
    "X = np.array([[1,3,3],\n",
    "             [1,4,3],\n",
    "             [1,1,1],\n",
    "             [1,2,1]])\n",
    "#定义标签\n",
    "T = np.array([[1],[1],[-1],[-1]])\n",
    "#权值初始化\n",
    "W = np.random.random([3,1])\n",
    "#学习率设置\n",
    "lr = 0.1\n",
    "#神经网络输出\n",
    "Y = 0"
   ]
  },
  {
   "cell_type": "code",
   "execution_count": 23,
   "metadata": {},
   "outputs": [],
   "source": [
    "#更新权值函数\n",
    "def train():\n",
    "    #把全局变量引入函数内部进行计算\n",
    "    global X,Y,W,lr,T\n",
    "    #同时计算4个数据的预测值\n",
    "    Y = np.sign(np.dot(X,W))\n",
    "    #T-Y得到4个标签值与预测值的误差E（4,1）\n",
    "    E = T-Y\n",
    "    #计算权值的变化\n",
    "    delta_W = lr*(X.T.dot(E)/X.shape[0])\n",
    "    #更新权值\n",
    "    W = W +delta_W\n",
    "    "
   ]
  },
  {
   "cell_type": "code",
   "execution_count": 24,
   "metadata": {},
   "outputs": [
    {
     "name": "stdout",
     "output_type": "stream",
     "text": [
      "1\n",
      "[[0.85702749]\n",
      " [0.32521736]\n",
      " [0.68500413]]\n",
      "2\n",
      "[[0.75702749]\n",
      " [0.17521736]\n",
      " [0.58500413]]\n",
      "3\n",
      "[[0.65702749]\n",
      " [0.02521736]\n",
      " [0.48500413]]\n",
      "4\n",
      "[[ 0.55702749]\n",
      " [-0.12478264]\n",
      " [ 0.38500413]]\n",
      "5\n",
      "[[ 0.45702749]\n",
      " [-0.27478264]\n",
      " [ 0.28500413]]\n",
      "6\n",
      "[[ 0.35702749]\n",
      " [-0.42478264]\n",
      " [ 0.18500413]]\n",
      "7\n",
      "[[ 0.40702749]\n",
      " [-0.12478264]\n",
      " [ 0.43500413]]\n",
      "8\n",
      "[[ 0.30702749]\n",
      " [-0.27478264]\n",
      " [ 0.33500413]]\n",
      "9\n",
      "[[ 0.20702749]\n",
      " [-0.42478264]\n",
      " [ 0.23500413]]\n",
      "10\n",
      "[[ 0.25702749]\n",
      " [-0.12478264]\n",
      " [ 0.48500413]]\n",
      "11\n",
      "[[ 0.15702749]\n",
      " [-0.27478264]\n",
      " [ 0.38500413]]\n",
      "12\n",
      "[[ 0.10702749]\n",
      " [-0.32478264]\n",
      " [ 0.33500413]]\n",
      "13\n",
      "[[ 0.10702749]\n",
      " [-0.17478264]\n",
      " [ 0.43500413]]\n",
      "14\n",
      "[[ 0.00702749]\n",
      " [-0.32478264]\n",
      " [ 0.33500413]]\n",
      "15\n",
      "[[ 0.00702749]\n",
      " [-0.17478264]\n",
      " [ 0.43500413]]\n",
      "16\n",
      "[[-0.09297251]\n",
      " [-0.32478264]\n",
      " [ 0.33500413]]\n",
      "17\n",
      "[[0.00702749]\n",
      " [0.02521736]\n",
      " [0.63500413]]\n",
      "18\n",
      "[[-0.09297251]\n",
      " [-0.12478264]\n",
      " [ 0.53500413]]\n",
      "19\n",
      "[[-0.19297251]\n",
      " [-0.27478264]\n",
      " [ 0.43500413]]\n",
      "finish\n"
     ]
    }
   ],
   "source": [
    "for i in range(100):\n",
    "    #更新权值\n",
    "    train()\n",
    "    #打印当前训练次数 \n",
    "    print(i+1)\n",
    "    #打印当前权值\n",
    "    print(W)\n",
    "    #计算当前输出\n",
    "    Y = np.sign(np.dot(X,W))\n",
    "    #all()表示Y中的所有值跟T中的所有值都对应相等，才为真\n",
    "    if (Y == T).all():\n",
    "        print('finish')\n",
    "        break\n",
    "    "
   ]
  },
  {
   "cell_type": "code",
   "execution_count": 25,
   "metadata": {},
   "outputs": [
    {
     "data": {
      "image/png": "[encoded data removed]",
      "text/plain": [
       "<Figure size 432x288 with 1 Axes>"
      ]
     },
     "metadata": {
      "needs_background": "light"
     },
     "output_type": "display_data"
    }
   ],
   "source": [
    "#画图\n",
    "#正样本\n",
    "x1 =[3,4]\n",
    "y1 = [3,3]\n",
    "#负样本xy坐标\n",
    "x2 = [1,2]\n",
    "y2 = [1,1]\n",
    "\n",
    "#定义分类边界线的斜率和截距\n",
    "k = -W[1]/W[2]\n",
    "d = -W[0]/W[2]\n",
    "\n",
    "#设定两个点\n",
    "xdata = (0,5)\n",
    "#通过两点来确定一条直线，用红色的线来画出分界线\n",
    "plt.plot(xdata,xdata*k+d,'r')\n",
    "#用蓝色的点画正样本\n",
    "plt.scatter(x1,y1,c = 'b')\n",
    "#用黄色的点画负样本\n",
    "plt.scatter(x2,y2,c='y')\n",
    "plt.show()"
   ]
  },
  {
   "cell_type": "code",
   "execution_count": null,
   "metadata": {},
   "outputs": [],
   "source": []
  },
  {
   "cell_type": "code",
   "execution_count": null,
   "metadata": {},
   "outputs": [],
   "source": []
  }
 ],
 "metadata": {
  "kernelspec": {
   "display_name": "Python 3",
   "language": "python",
   "name": "python3"
  },
  "language_info": {
   "codemirror_mode": {
    "name": "ipython",
    "version": 3
   },
   "file_extension": ".py",
   "mimetype": "text/x-python",
   "name": "python",
   "nbconvert_exporter": "python",
   "pygments_lexer": "ipython3",
   "version": "3.7.4"
  }
 },
 "nbformat": 4,
 "nbformat_minor": 2
}
