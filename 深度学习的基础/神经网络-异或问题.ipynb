{
 "cells": [
  {
   "cell_type": "code",
   "execution_count": 9,
   "metadata": {},
   "outputs": [],
   "source": [
    "import numpy as np\n",
    "import matplotlib.pyplot as plt"
   ]
  },
  {
   "cell_type": "code",
   "execution_count": 10,
   "metadata": {},
   "outputs": [],
   "source": [
    "#输入数据\n",
    "#4个数据分别对应0与0异或，0与1异或，1与0异或，1与1异或\n",
    "x = np.array([[1,0,0],\n",
    "             [1,0,1],\n",
    "             [1,1,0],\n",
    "             [1,1,1]])\n",
    "#标签，分别对应4种对应的异或\n",
    "#注意这里我们使用-1作为负标签\n",
    "T = np.array([[-1],[1],[1],[-1]])\n",
    "#权值初始化，3行1列\n",
    "#np.random.random可以生成0-1的随机数\n",
    "w = np.random.random([3,1])\n",
    "#学习率设置\n",
    "lr = 0.1\n",
    "#神经网络输出\n",
    "y = 0\n",
    "#更新一次权值\n",
    "def train():\n",
    "    #使用全局变量x,y,w,lr\n",
    "    global x,y,w,lr\n",
    "    #计算网络预测值\n",
    "    y = np.dot(x,w)\n",
    "    #计算权值的改变\n",
    "    delta_w = lr * (x.T.dot(t-y)/x.shape[0])\n",
    "    #更新权值\n",
    "    w = w + delta_w"
   ]
  },
  {
   "cell_type": "code",
   "execution_count": 11,
   "metadata": {},
   "outputs": [
    {
     "data": {
      "image/png": "[encoded data removed]",
      "text/plain": [
       "<Figure size 432x288 with 1 Axes>"
      ]
     },
     "metadata": {
      "needs_background": "light"
     },
     "output_type": "display_data"
    }
   ],
   "source": [
    "for i in range(100):\n",
    "    train()\n",
    "\n",
    "#正样本\n",
    "x1 = [0,1]\n",
    "y1 = [1,0]\n",
    "#负样本\n",
    "x2 = [0,1]\n",
    "y2 = [0,1]\n",
    "\n",
    "#计算分界线的斜率以及截距\n",
    "k = -w[1]/w[2]\n",
    "d = -w[0]/w[2]\n",
    "\n",
    "#设定两个点\n",
    "xdata = (-2,3)\n",
    "#通过两个点来确定一条直线，用红色的线来画出分界线\n",
    "plt.plot(xdata,xdata * k +d,'r')\n",
    "#用蓝色的点画出正样本\n",
    "plt.scatter(x1,y1,c='b')\n",
    "#用黄色的点来画出负样本\n",
    "plt.scatter(x2,y2,c = 'y')\n",
    "plt.show()"
   ]
  },
  {
   "cell_type": "code",
   "execution_count": null,
   "metadata": {},
   "outputs": [],
   "source": []
  }
 ],
 "metadata": {
  "kernelspec": {
   "display_name": "Python 3",
   "language": "python",
   "name": "python3"
  },
  "language_info": {
   "codemirror_mode": {
    "name": "ipython",
    "version": 3
   },
   "file_extension": ".py",
   "mimetype": "text/x-python",
   "name": "python",
   "nbconvert_exporter": "python",
   "pygments_lexer": "ipython3",
   "version": "3.7.4"
  }
 },
 "nbformat": 4,
 "nbformat_minor": 2
}
