{
 "cells": [
  {
   "cell_type": "code",
   "execution_count": 1,
   "metadata": {},
   "outputs": [],
   "source": [
    "import numpy as np\n"
   ]
  },
  {
   "cell_type": "code",
   "execution_count": 2,
   "metadata": {},
   "outputs": [],
   "source": [
    "#输入数据\n",
    "x = np.array([[1,0,0],\n",
    "             [1,0,1],\n",
    "             [1,1,0],\n",
    "             [1,1,1]])\n",
    "#标签\n",
    "y = np.array([[0],[1],[1],[0]])\n",
    "#3-10-1\n",
    "v = np.random.random([3,10]) * 2-1\n",
    "w = np.random.random([10,1]) * 2-1\n",
    "\n",
    "#学习率\n",
    "lr = 0.11\n"
   ]
  },
  {
   "cell_type": "code",
   "execution_count": 3,
   "metadata": {},
   "outputs": [],
   "source": [
    "def sigmoid(x):\n",
    "    return 1/(1+np.exp(-x))\n",
    "\n",
    "def dsigmoid(x):\n",
    "    return x*(1-x)\n",
    "\n",
    "#权值调整函数\n",
    "def update():\n",
    "    global v,w\n",
    "    \n",
    "    #求每一层输出\n",
    "    l1 = sigmoid(np.dot(x,v))\n",
    "    l2 = sigmoid(np.dot(l1,w))\n",
    "    \n",
    "    #求每一层的学习信号\n",
    "    l2_delta = (y-l2)*dsigmoid(l2)\n",
    "    l1_delta = l2_delta.dot(w.T)*dsigmoid(l1)\n",
    "    \n",
    "    #求每一层权值的变化\n",
    "    delta_W = lr * l1.T.dot(l2_delta)\n",
    "    delta_V = lr *x.T.dot(l1_delta)\n",
    "    \n",
    "    #改变权值\n",
    "    w = w+delta_W\n",
    "    v = v+delta_V"
   ]
  },
  {
   "cell_type": "code",
   "execution_count": 5,
   "metadata": {},
   "outputs": [
    {
     "name": "stdout",
     "output_type": "stream",
     "text": [
      "0.11520192758098921\n",
      "0.09097862260499145\n",
      "0.05221631555031251\n",
      "0.023444528658451667\n",
      "0.011628733695185538\n",
      "0.006881569384098143\n",
      "0.004624311782072199\n",
      "0.00338045377582697\n",
      "0.0026172495692917234\n",
      "0.002110962031076073\n",
      "0.0017550076681664053\n",
      "0.0014933468330251424\n",
      "0.0012941405213065982\n",
      "0.001138145206225248\n",
      "0.001013130839263267\n",
      "0.0009109954708318613\n",
      "0.0008261819561156338\n",
      "0.0007547644278568483\n",
      "0.0006938982210813131\n",
      "0.0006414762645937325\n",
      "0.0005959074928626753\n"
     ]
    }
   ],
   "source": [
    "for i in range(10001):\n",
    "    #更新权值\n",
    "    update()\n",
    "    if i % 500 ==0:\n",
    "        #求每一层的输出\n",
    "        l1 = sigmoid(np.dot(x,v))\n",
    "        l2 = sigmoid(np.dot(l1,w))\n",
    "        loss = np.mean(np.square(y-l2)/2)\n",
    "        print(loss)"
   ]
  },
  {
   "cell_type": "code",
   "execution_count": 6,
   "metadata": {},
   "outputs": [
    {
     "name": "stdout",
     "output_type": "stream",
     "text": [
      "[[0.03312843]\n",
      " [0.96453872]\n",
      " [0.9672941 ]\n",
      " [0.03664135]]\n"
     ]
    }
   ],
   "source": [
    "l1 = sigmoid(np.dot(x,v))\n",
    "l2 = sigmoid(np.dot(l1,w))\n",
    "print(l2)"
   ]
  },
  {
   "cell_type": "code",
   "execution_count": 7,
   "metadata": {},
   "outputs": [
    {
     "name": "stdout",
     "output_type": "stream",
     "text": [
      "0\n",
      "1\n",
      "1\n",
      "0\n"
     ]
    }
   ],
   "source": [
    "def judge(x):\n",
    "    if x>=0.5:\n",
    "        return 1\n",
    "    else:\n",
    "        return 0\n",
    "for i in map(judge,l2):\n",
    "    print(i)"
   ]
  },
  {
   "cell_type": "code",
   "execution_count": null,
   "metadata": {},
   "outputs": [],
   "source": []
  }
 ],
 "metadata": {
  "kernelspec": {
   "display_name": "Python 3",
   "language": "python",
   "name": "python3"
  },
  "language_info": {
   "codemirror_mode": {
    "name": "ipython",
    "version": 3
   },
   "file_extension": ".py",
   "mimetype": "text/x-python",
   "name": "python",
   "nbconvert_exporter": "python",
   "pygments_lexer": "ipython3",
   "version": "3.7.4"
  }
 },
 "nbformat": 4,
 "nbformat_minor": 2
}
