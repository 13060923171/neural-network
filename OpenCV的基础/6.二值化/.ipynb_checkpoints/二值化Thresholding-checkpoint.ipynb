{
 "cells": [
  {
   "cell_type": "markdown",
   "metadata": {},
   "source": [
    "在图像处理中，Thresholding中文翻译过来叫二值化或者阈值化。二值化就是把图片传换成只有white和black这两种颜色。通过Thresholding，可以让图片中感兴趣的颜色变成主角--white，其余的颜色全部隐藏--black。另外，二值化后的图片也便于计算机进行分析，因为边缘轮廓十分清晰，所以计算机可以轻松找到边界线。然而，在找边界这方面，Thresholding并不是特别好的算法，有些时候遇到某些特殊图片效果也不好。"
   ]
  },
  {
   "cell_type": "code",
   "execution_count": null,
   "metadata": {
    "collapsed": true
   },
   "outputs": [],
   "source": []
  },
  {
   "cell_type": "markdown",
   "metadata": {},
   "source": [
    "• cv2.THRESH_BINARY  \n",
    "• cv2.THRESH_BINARY_INV  \n",
    "• cv2.THRESH_TRUNC  \n",
    "• cv2.THRESH_TOZERO  \n",
    "• cv2.THRESH_TOZERO_INV  \n",
    "<center><img src=\"image/threshold.png\" alt=\"FAO\" width=\"300\"></center>"
   ]
  },
  {
   "cell_type": "code",
   "execution_count": null,
   "metadata": {
    "collapsed": true
   },
   "outputs": [],
   "source": []
  },
  {
   "cell_type": "markdown",
   "metadata": {},
   "source": [
    "### Otsu’s Method\n",
    "自动选择阈值"
   ]
  },
  {
   "cell_type": "code",
   "execution_count": null,
   "metadata": {
    "collapsed": true
   },
   "outputs": [],
   "source": []
  },
  {
   "cell_type": "markdown",
   "metadata": {},
   "source": [
    "### Adaptive Thresholding自适应阈值\n",
    "在前面的部分我们使用是全局阈值，整幅图像采用同一个数作为阈值。当\n",
    "时这种方法并不适应与所有情况，尤其是当同一幅图像上的不同部分的具有不\n",
    "同亮度时。这种情况下我们需要采用自适应阈值。此时的阈值是根据图像上的\n",
    "每一个小区域计算与其对应的阈值。因此在同一幅图像上的不同区域采用的是\n",
    "不同的阈值，从而使我们能在亮度不同的情况下得到更好的结果。\n",
    "\n",
    "Adaptive Method- 指定计算阈值的方法。  \n",
    "– cv2.ADPTIVE_THRESH_MEAN_C：阈值取自相邻区域的平\n",
    "均值  \n",
    "– cv2.ADPTIVE_THRESH_GAUSSIAN_C：阈值取值相邻区域\n",
    "的加权和，权重为一个高斯窗口。  \n",
    "• Block Size - 邻域大小（用来计算阈值的区域大小）。  \n",
    "• C - 这就是是一个常数，阈值就等于的平均值或者加权平均值减去这个常\n",
    "数。"
   ]
  },
  {
   "cell_type": "code",
   "execution_count": null,
   "metadata": {
    "collapsed": true
   },
   "outputs": [],
   "source": []
  }
 ],
 "metadata": {
  "anaconda-cloud": {},
  "kernelspec": {
   "display_name": "Python [default]",
   "language": "python",
   "name": "python3"
  },
  "language_info": {
   "codemirror_mode": {
    "name": "ipython",
    "version": 3
   },
   "file_extension": ".py",
   "mimetype": "text/x-python",
   "name": "python",
   "nbconvert_exporter": "python",
   "pygments_lexer": "ipython3",
   "version": "3.5.2"
  }
 },
 "nbformat": 4,
 "nbformat_minor": 1
}
